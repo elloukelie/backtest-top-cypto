{
 "cells": [
  {
   "cell_type": "code",
   "execution_count": null,
   "metadata": {},
   "outputs": [],
   "source": [
    "from tqdm import tqdm\n",
    "import pandas as pd \n",
    "from binance.client import Client\n",
    "client = Client()"
   ]
  },
  {
   "cell_type": "code",
   "execution_count": null,
   "metadata": {},
   "outputs": [],
   "source": [
    "from sqlalchemy import create_engine"
   ]
  },
  {
   "cell_type": "code",
   "execution_count": null,
   "metadata": {},
   "outputs": [],
   "source": [
    "coins = ('BTCUSDT','ETHUSDT','BNBUSDT','SOLUSDT','ADAUSDT','XRPUSDT','DOTUSDT','LUNAUSDT',\n",
    "        'DOGEUSDT','AVAXUSDT','SHIBUSDT','MATICUSDT','LTCUSDT','UNIUSDT','ALGOUSDT','TRXUSDT',\n",
    "        'LINKUSDT','MANAUSDT','ATOMUSDT','VETUSDT')"
   ]
  },
  {
   "cell_type": "code",
   "execution_count": null,
   "metadata": {},
   "outputs": [],
   "source": [
    "def getminutedata(symbol, lookback):\n",
    "    frame = pd.DataFrame(client.get_historical_klines(symbol,\n",
    "                                                     '1m',\n",
    "                                                     lookback + ' days ago UTC'))\n",
    "    frame = frame.iloc[:,:5]\n",
    "    frame.columns = ['Time', 'Open', 'High', 'Low', 'Close']\n",
    "    frame[['Time', 'Open', 'High', 'Low', 'Close']] = frame[['Time', 'Open', 'High', 'Low', 'Close']].astype(float)\n",
    "    frame.Time = pd.to_datetime(frame.Time, unit='ms')\n",
    "\n",
    "    return frame"
   ]
  },
  {
   "cell_type": "code",
   "execution_count": null,
   "metadata": {},
   "outputs": [],
   "source": [
    "engine = create_engine('sqlite:///CryptoTopCoin.db')"
   ]
  },
  {
   "cell_type": "code",
   "execution_count": null,
   "metadata": {},
   "outputs": [],
   "source": [
    "for coin in tqdm(coins):\n",
    "    getminutedata(coin, '30').to_sql(coin, engine, index=False)"
   ]
  },
  {
   "cell_type": "code",
   "execution_count": null,
   "metadata": {},
   "outputs": [],
   "source": [
    "test = pd.read_sql('ETHUSDT', engine).set_index('Time')"
   ]
  },
  {
   "cell_type": "code",
   "execution_count": null,
   "metadata": {},
   "outputs": [],
   "source": [
    "test"
   ]
  },
  {
   "cell_type": "code",
   "execution_count": null,
   "metadata": {},
   "outputs": [],
   "source": [
    "import numpy as np"
   ]
  },
  {
   "cell_type": "code",
   "execution_count": null,
   "metadata": {},
   "outputs": [],
   "source": [
    "def technicals(df):\n",
    "    df = df.copy()\n",
    "    df = df.resample('20min').ffill()\n",
    "    df.dropna(inplace=True)\n",
    "    df = df.copy()\n",
    "    df['return'] = np.log(df.Close.pct_change() + 1)\n",
    "    df['SMA_fast'] = df.Close.rolling(7).mean()\n",
    "    df['SMA_slow'] = df.Close.rolling(25).mean()\n",
    "    df['position'] = np.where(df['SMA_fast'] > df['SMA_slow'], 1, 0)\n",
    "    df['strategyreturn'] = df['position'].shift(1) * df['return']\n",
    "    df.dropna(inplace=True)\n",
    "    return df"
   ]
  },
  {
   "cell_type": "code",
   "execution_count": null,
   "metadata": {},
   "outputs": [],
   "source": [
    "technicals(test)"
   ]
  },
  {
   "cell_type": "code",
   "execution_count": null,
   "metadata": {},
   "outputs": [],
   "source": [
    "np.exp(technicals(test)[['return', 'strategyreturn']].sum()) -1"
   ]
  },
  {
   "cell_type": "code",
   "execution_count": null,
   "metadata": {},
   "outputs": [],
   "source": [
    "for coin in coins:\n",
    "    df = pd.read_sql(coin, engine).set_index('Time')\n",
    "    print(coin)\n",
    "    trades = technicals(df).position.diff().value_counts().iloc[1:].sum()\n",
    "    costs = trades * 0.00075\n",
    "    print(np.exp(technicals(df)['return'].sum()) -1)\n",
    "    print(np.exp(technicals(df)['strategyreturn'].sum()) -1 - costs)"
   ]
  },
  {
   "cell_type": "code",
   "execution_count": null,
   "metadata": {},
   "outputs": [],
   "source": []
  }
 ],
 "metadata": {
  "interpreter": {
   "hash": "8b8334dab9339717f727a1deaf837b322d7a41c20d15cc86be99a8e69ceec8ce"
  },
  "kernelspec": {
   "display_name": "Python 3.8.12 64-bit ('3.8.12': pyenv)",
   "language": "python",
   "name": "python3"
  },
  "language_info": {
   "codemirror_mode": {
    "name": "ipython",
    "version": 3
   },
   "file_extension": ".py",
   "mimetype": "text/x-python",
   "name": "python",
   "nbconvert_exporter": "python",
   "pygments_lexer": "ipython3",
   "version": "3.8.12"
  },
  "orig_nbformat": 4
 },
 "nbformat": 4,
 "nbformat_minor": 2
}
